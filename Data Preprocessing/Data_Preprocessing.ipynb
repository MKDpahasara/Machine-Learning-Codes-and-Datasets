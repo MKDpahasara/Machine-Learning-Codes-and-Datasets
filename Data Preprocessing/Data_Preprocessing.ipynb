{
 "cells": [
  {
   "cell_type": "markdown",
   "metadata": {
    "colab_type": "text",
    "id": "37puETfgRzzg"
   },
   "source": [
    "# Data Preprocessing \n",
    "\n",
    "Data preprocessing is the process of generating raw data for machine learning models. This is the first step in creating a machine-learning model. This is the most complex and time-consuming aspect of data science. Data preprocessing is required in machine learning algorithms to reduce its complexities.\n"
   ]
  },
  {
   "cell_type": "markdown",
   "metadata": {
    "colab_type": "text",
    "id": "EoRP98MpR-qj"
   },
   "source": [
    "## Importing the libraries"
   ]
  },
  {
   "cell_type": "code",
   "execution_count": 1,
   "metadata": {
    "colab": {},
    "colab_type": "code",
    "id": "N-qiINBQSK2g"
   },
   "outputs": [],
   "source": [
    "import numpy as np\n",
    "import matplotlib.pyplot as plt\n",
    "import pandas as pd"
   ]
  },
  {
   "cell_type": "markdown",
   "metadata": {
    "colab_type": "text",
    "id": "RopL7tUZSQkT"
   },
   "source": [
    "## Importing the dataset"
   ]
  },
  {
   "cell_type": "code",
   "execution_count": 2,
   "metadata": {
    "colab": {},
    "colab_type": "code",
    "id": "WwEPNDWySTKm"
   },
   "outputs": [],
   "source": [
    "dataset = pd.read_csv('gender.csv')\n",
    "X = dataset.iloc[:, :-1].values\n",
    "y = dataset.iloc[:, -1].values"
   ]
  },
  {
   "cell_type": "code",
   "execution_count": 4,
   "metadata": {},
   "outputs": [
    {
     "data": {
      "text/html": [
       "<div>\n",
       "<style scoped>\n",
       "    .dataframe tbody tr th:only-of-type {\n",
       "        vertical-align: middle;\n",
       "    }\n",
       "\n",
       "    .dataframe tbody tr th {\n",
       "        vertical-align: top;\n",
       "    }\n",
       "\n",
       "    .dataframe thead th {\n",
       "        text-align: right;\n",
       "    }\n",
       "</style>\n",
       "<table border=\"1\" class=\"dataframe\">\n",
       "  <thead>\n",
       "    <tr style=\"text-align: right;\">\n",
       "      <th></th>\n",
       "      <th>Age</th>\n",
       "      <th>Height (cm)</th>\n",
       "      <th>Education Level</th>\n",
       "      <th>Gender</th>\n",
       "    </tr>\n",
       "  </thead>\n",
       "  <tbody>\n",
       "    <tr>\n",
       "      <th>0</th>\n",
       "      <td>35.0</td>\n",
       "      <td>178.0</td>\n",
       "      <td>Master's Degree</td>\n",
       "      <td>male</td>\n",
       "    </tr>\n",
       "    <tr>\n",
       "      <th>1</th>\n",
       "      <td>28.0</td>\n",
       "      <td>165.0</td>\n",
       "      <td>Bachelor's Degree</td>\n",
       "      <td>female</td>\n",
       "    </tr>\n",
       "    <tr>\n",
       "      <th>2</th>\n",
       "      <td>42.0</td>\n",
       "      <td>185.0</td>\n",
       "      <td>Doctorate Degree</td>\n",
       "      <td>male</td>\n",
       "    </tr>\n",
       "    <tr>\n",
       "      <th>3</th>\n",
       "      <td>31.0</td>\n",
       "      <td>163.0</td>\n",
       "      <td>Associate's Degree</td>\n",
       "      <td>female</td>\n",
       "    </tr>\n",
       "    <tr>\n",
       "      <th>4</th>\n",
       "      <td>30.0</td>\n",
       "      <td>182.0</td>\n",
       "      <td>Bachelor's Degree</td>\n",
       "      <td>male</td>\n",
       "    </tr>\n",
       "  </tbody>\n",
       "</table>\n",
       "</div>"
      ],
      "text/plain": [
       "    Age   Height (cm)     Education Level  Gender\n",
       "0  35.0         178.0     Master's Degree    male\n",
       "1  28.0         165.0   Bachelor's Degree  female\n",
       "2  42.0         185.0    Doctorate Degree    male\n",
       "3  31.0         163.0  Associate's Degree  female\n",
       "4  30.0         182.0   Bachelor's Degree    male"
      ]
     },
     "execution_count": 4,
     "metadata": {},
     "output_type": "execute_result"
    }
   ],
   "source": [
    "dataset.head(5)"
   ]
  },
  {
   "cell_type": "code",
   "execution_count": 3,
   "metadata": {
    "colab": {
     "base_uri": "https://localhost:8080/",
     "height": 188
    },
    "colab_type": "code",
    "id": "hCsz2yCebe1R",
    "outputId": "1e4cc568-4e51-4b38-9d46-4aa3f15204be"
   },
   "outputs": [
    {
     "name": "stdout",
     "output_type": "stream",
     "text": [
      "[[35.0 178.0 \"Master's Degree\"]\n",
      " [28.0 165.0 \"Bachelor's Degree\"]\n",
      " [42.0 185.0 'Doctorate Degree']\n",
      " [31.0 163.0 \"Associate's Degree\"]\n",
      " [30.0 182.0 \"Bachelor's Degree\"]\n",
      " [nan 170.0 \"Bachelor's Degree\"]\n",
      " [44.0 188.0 \"Master's Degree\"]\n",
      " [29.0 167.0 \"Bachelor's Degree\"]\n",
      " [37.0 179.0 \"Bachelor's Degree\"]\n",
      " [26.0 162.0 \"Bachelor's Degree\"]\n",
      " [43.0 nan \"Bachelor's Degree\"]\n",
      " [34.0 168.0 \"Associate's Degree\"]\n",
      " [36.0 174.0 \"Bachelor's Degree\"]\n",
      " [27.0 166.0 \"Bachelor's Degree\"]\n",
      " [41.0 180.0 'Doctorate Degree']\n",
      " [30.0 170.0 \"Bachelor's Degree\"]\n",
      " [38.0 nan \"Bachelor's Degree\"]\n",
      " [29.0 164.0 'Doctorate Degree']\n",
      " [40.0 182.0 \"Master's Degree\"]\n",
      " [33.0 169.0 \"Bachelor's Degree\"]\n",
      " [39.0 181.0 \"Bachelor's Degree\"]\n",
      " [32.0 168.0 \"Bachelor's Degree\"]\n",
      " [nan 186.0 \"Master's Degree\"]\n",
      " [28.0 163.0 \"Associate's Degree\"]\n",
      " [34.0 177.0 \"Bachelor's Degree\"]\n",
      " [31.0 166.0 \"Bachelor's Degree\"]\n",
      " [42.0 184.0 \"Bachelor's Degree\"]\n",
      " [30.0 170.0 \"Associate's Degree\"]\n",
      " [37.0 179.0 \"Bachelor's Degree\"]\n",
      " [37.0 175.0 \"Bachelor's Degree\"]\n",
      " [27.0 160.0 \"Bachelor's Degree\"]\n",
      " [44.0 182.0 'Doctorate Degree']\n",
      " [32.0 168.0 \"Associate's Degree\"]\n",
      " [39.0 178.0 \"Bachelor's Degree\"]\n",
      " [29.0 165.0 \"Bachelor's Degree\"]\n",
      " [43.0 183.0 \"Master's Degree\"]\n",
      " [31.0 170.0 \"Associate's Degree\"]\n",
      " [38.0 176.0 \"Bachelor's Degree\"]\n",
      " [28.0 162.0 \"Bachelor's Degree\"]\n",
      " [41.0 181.0 \"Bachelor's Degree\"]\n",
      " [33.0 170.0 \"Bachelor's Degree\"]\n",
      " [36.0 179.0 \"Bachelor's Degree\"]\n",
      " [30.0 163.0 \"Bachelor's Degree\"]\n",
      " [42.0 184.0 'Doctorate Degree']\n",
      " [34.0 168.0 \"Bachelor's Degree\"]\n",
      " [35.0 177.0 \"Bachelor's Degree\"]\n",
      " [29.0 166.0 'Doctorate Degree']\n",
      " [40.0 183.0 \"Master's Degree\"]\n",
      " [31.0 167.0 \"Bachelor's Degree\"]\n",
      " [43.0 185.0 \"Master's Degree\"]\n",
      " [32.0 168.0 \"Associate's Degree\"]\n",
      " [37.0 179.0 \"Bachelor's Degree\"]\n",
      " [28.0 163.0 \"Associate's Degree\"]\n",
      " [34.0 176.0 \"Bachelor's Degree\"]\n",
      " [32.0 178.0 \"Bachelor's Degree\"]\n",
      " [27.0 162.0 \"Bachelor's Degree\"]\n",
      " [44.0 182.0 'Doctorate Degree']\n",
      " [35.0 168.0 \"Associate's Degree\"]\n",
      " [38.0 179.0 \"Bachelor's Degree\"]\n",
      " [30.0 164.0 \"Bachelor's Degree\"]\n",
      " [42.0 183.0 \"Master's Degree\"]\n",
      " [29.0 160.0 \"Associate's Degree\"]\n",
      " [36.0 175.0 \"Bachelor's Degree\"]\n",
      " [31.0 166.0 \"Bachelor's Degree\"]\n",
      " [41.0 184.0 \"Bachelor's Degree\"]\n",
      " [33.0 169.0 \"Bachelor's Degree\"]\n",
      " [35.0 178.0 \"Bachelor's Degree\"]\n",
      " [28.0 162.0 \"Bachelor's Degree\"]\n",
      " [40.0 183.0 'Doctorate Degree']\n",
      " [34.0 167.0 \"Bachelor's Degree\"]\n",
      " [37.0 180.0 \"Bachelor's Degree\"]\n",
      " [29.0 165.0 'Doctorate Degree']\n",
      " [40.0 182.0 \"Master's Degree\"]\n",
      " [31.0 168.0 \"Bachelor's Degree\"]\n",
      " [43.0 184.0 \"Master's Degree\"]\n",
      " [32.0 170.0 \"Associate's Degree\"]\n",
      " [38.0 176.0 \"Bachelor's Degree\"]\n",
      " [27.0 162.0 \"Associate's Degree\"]\n",
      " [33.0 175.0 \"Bachelor's Degree\"]\n",
      " [29.0 164.0 \"Bachelor's Degree\"]]\n"
     ]
    }
   ],
   "source": [
    "print(X)"
   ]
  },
  {
   "cell_type": "code",
   "execution_count": 4,
   "metadata": {
    "colab": {
     "base_uri": "https://localhost:8080/",
     "height": 34
    },
    "colab_type": "code",
    "id": "eYrOQ43XcJR3",
    "outputId": "e0873b2a-3b08-4bab-ef0d-15b88858ca44"
   },
   "outputs": [
    {
     "name": "stdout",
     "output_type": "stream",
     "text": [
      "['male' 'female' 'male' 'female' 'male' 'female' 'male' 'female' 'male'\n",
      " 'female' 'male' 'female' 'male' 'female' 'male' 'female' 'male' 'female'\n",
      " 'male' 'female' 'male' 'female' 'male' 'female' 'male' 'female' 'male'\n",
      " 'female' 'male' 'male' 'female' 'male' 'female' 'male' 'female' 'male'\n",
      " 'female' 'male' 'female' 'male' 'female' 'male' 'female' 'male' 'female'\n",
      " 'male' 'female' 'male' 'female' 'male' 'female' 'male' 'female' 'male'\n",
      " 'male' 'female' 'male' 'female' 'male' 'female' 'male' 'female' 'male'\n",
      " 'female' 'male' 'female' 'male' 'female' 'male' 'female' 'male' 'female'\n",
      " 'male' 'female' 'male' 'female' 'male' 'female' 'male' 'female']\n"
     ]
    }
   ],
   "source": [
    "print(y)"
   ]
  },
  {
   "cell_type": "code",
   "execution_count": 5,
   "metadata": {},
   "outputs": [
    {
     "data": {
      "text/plain": [
       "array(['female', 'male'], dtype=object)"
      ]
     },
     "execution_count": 5,
     "metadata": {},
     "output_type": "execute_result"
    }
   ],
   "source": [
    "np.unique(y)"
   ]
  },
  {
   "cell_type": "markdown",
   "metadata": {
    "colab_type": "text",
    "id": "nhfKXNxlSabC"
   },
   "source": [
    "## Taking care of missing data"
   ]
  },
  {
   "cell_type": "code",
   "execution_count": 6,
   "metadata": {},
   "outputs": [],
   "source": [
    "X_null_values = pd.isnull(X)"
   ]
  },
  {
   "cell_type": "code",
   "execution_count": 7,
   "metadata": {},
   "outputs": [
    {
     "name": "stdout",
     "output_type": "stream",
     "text": [
      "[[False False False]\n",
      " [False False False]\n",
      " [False False False]\n",
      " [False False False]\n",
      " [False False False]\n",
      " [ True False False]\n",
      " [False False False]\n",
      " [False False False]\n",
      " [False False False]\n",
      " [False False False]\n",
      " [False  True False]\n",
      " [False False False]\n",
      " [False False False]\n",
      " [False False False]\n",
      " [False False False]\n",
      " [False False False]\n",
      " [False  True False]\n",
      " [False False False]\n",
      " [False False False]\n",
      " [False False False]\n",
      " [False False False]\n",
      " [False False False]\n",
      " [ True False False]\n",
      " [False False False]\n",
      " [False False False]\n",
      " [False False False]\n",
      " [False False False]\n",
      " [False False False]\n",
      " [False False False]\n",
      " [False False False]\n",
      " [False False False]\n",
      " [False False False]\n",
      " [False False False]\n",
      " [False False False]\n",
      " [False False False]\n",
      " [False False False]\n",
      " [False False False]\n",
      " [False False False]\n",
      " [False False False]\n",
      " [False False False]\n",
      " [False False False]\n",
      " [False False False]\n",
      " [False False False]\n",
      " [False False False]\n",
      " [False False False]\n",
      " [False False False]\n",
      " [False False False]\n",
      " [False False False]\n",
      " [False False False]\n",
      " [False False False]\n",
      " [False False False]\n",
      " [False False False]\n",
      " [False False False]\n",
      " [False False False]\n",
      " [False False False]\n",
      " [False False False]\n",
      " [False False False]\n",
      " [False False False]\n",
      " [False False False]\n",
      " [False False False]\n",
      " [False False False]\n",
      " [False False False]\n",
      " [False False False]\n",
      " [False False False]\n",
      " [False False False]\n",
      " [False False False]\n",
      " [False False False]\n",
      " [False False False]\n",
      " [False False False]\n",
      " [False False False]\n",
      " [False False False]\n",
      " [False False False]\n",
      " [False False False]\n",
      " [False False False]\n",
      " [False False False]\n",
      " [False False False]\n",
      " [False False False]\n",
      " [False False False]\n",
      " [False False False]\n",
      " [False False False]]\n"
     ]
    }
   ],
   "source": [
    "print(X_null_values)"
   ]
  },
  {
   "cell_type": "code",
   "execution_count": 8,
   "metadata": {},
   "outputs": [],
   "source": [
    "y_null_values = pd.isnull(y)"
   ]
  },
  {
   "cell_type": "code",
   "execution_count": 9,
   "metadata": {},
   "outputs": [
    {
     "name": "stdout",
     "output_type": "stream",
     "text": [
      "[False False False False False False False False False False False False\n",
      " False False False False False False False False False False False False\n",
      " False False False False False False False False False False False False\n",
      " False False False False False False False False False False False False\n",
      " False False False False False False False False False False False False\n",
      " False False False False False False False False False False False False\n",
      " False False False False False False False False]\n"
     ]
    }
   ],
   "source": [
    "print(y_null_values)"
   ]
  },
  {
   "cell_type": "code",
   "execution_count": 24,
   "metadata": {
    "colab": {},
    "colab_type": "code",
    "id": "c93k7ipkSexq"
   },
   "outputs": [],
   "source": [
    "#if there any null values use this method\n",
    "from sklearn.impute import SimpleImputer\n",
    "imputer = SimpleImputer(missing_values=np.nan, strategy='mean')\n",
    "imputer.fit(X[:, 0:2])#0:2 = Age and Height\n",
    "X[:, 0:2] = imputer.transform(X[:, 0:2])"
   ]
  },
  {
   "cell_type": "code",
   "execution_count": 11,
   "metadata": {
    "colab": {
     "base_uri": "https://localhost:8080/",
     "height": 188
    },
    "colab_type": "code",
    "id": "3UgLdMS_bjq_",
    "outputId": "254af4e0-681e-47f5-aaa7-b9c6f43258e9"
   },
   "outputs": [
    {
     "name": "stdout",
     "output_type": "stream",
     "text": [
      "[[35.0 178.0 \"Master's Degree\"]\n",
      " [28.0 165.0 \"Bachelor's Degree\"]\n",
      " [42.0 185.0 'Doctorate Degree']\n",
      " [31.0 163.0 \"Associate's Degree\"]\n",
      " [30.0 182.0 \"Bachelor's Degree\"]\n",
      " [34.52564102564103 170.0 \"Bachelor's Degree\"]\n",
      " [44.0 188.0 \"Master's Degree\"]\n",
      " [29.0 167.0 \"Bachelor's Degree\"]\n",
      " [37.0 179.0 \"Bachelor's Degree\"]\n",
      " [26.0 162.0 \"Bachelor's Degree\"]\n",
      " [43.0 173.07692307692307 \"Bachelor's Degree\"]\n",
      " [34.0 168.0 \"Associate's Degree\"]\n",
      " [36.0 174.0 \"Bachelor's Degree\"]\n",
      " [27.0 166.0 \"Bachelor's Degree\"]\n",
      " [41.0 180.0 'Doctorate Degree']\n",
      " [30.0 170.0 \"Bachelor's Degree\"]\n",
      " [38.0 173.07692307692307 \"Bachelor's Degree\"]\n",
      " [29.0 164.0 'Doctorate Degree']\n",
      " [40.0 182.0 \"Master's Degree\"]\n",
      " [33.0 169.0 \"Bachelor's Degree\"]\n",
      " [39.0 181.0 \"Bachelor's Degree\"]\n",
      " [32.0 168.0 \"Bachelor's Degree\"]\n",
      " [34.52564102564103 186.0 \"Master's Degree\"]\n",
      " [28.0 163.0 \"Associate's Degree\"]\n",
      " [34.0 177.0 \"Bachelor's Degree\"]\n",
      " [31.0 166.0 \"Bachelor's Degree\"]\n",
      " [42.0 184.0 \"Bachelor's Degree\"]\n",
      " [30.0 170.0 \"Associate's Degree\"]\n",
      " [37.0 179.0 \"Bachelor's Degree\"]\n",
      " [37.0 175.0 \"Bachelor's Degree\"]\n",
      " [27.0 160.0 \"Bachelor's Degree\"]\n",
      " [44.0 182.0 'Doctorate Degree']\n",
      " [32.0 168.0 \"Associate's Degree\"]\n",
      " [39.0 178.0 \"Bachelor's Degree\"]\n",
      " [29.0 165.0 \"Bachelor's Degree\"]\n",
      " [43.0 183.0 \"Master's Degree\"]\n",
      " [31.0 170.0 \"Associate's Degree\"]\n",
      " [38.0 176.0 \"Bachelor's Degree\"]\n",
      " [28.0 162.0 \"Bachelor's Degree\"]\n",
      " [41.0 181.0 \"Bachelor's Degree\"]\n",
      " [33.0 170.0 \"Bachelor's Degree\"]\n",
      " [36.0 179.0 \"Bachelor's Degree\"]\n",
      " [30.0 163.0 \"Bachelor's Degree\"]\n",
      " [42.0 184.0 'Doctorate Degree']\n",
      " [34.0 168.0 \"Bachelor's Degree\"]\n",
      " [35.0 177.0 \"Bachelor's Degree\"]\n",
      " [29.0 166.0 'Doctorate Degree']\n",
      " [40.0 183.0 \"Master's Degree\"]\n",
      " [31.0 167.0 \"Bachelor's Degree\"]\n",
      " [43.0 185.0 \"Master's Degree\"]\n",
      " [32.0 168.0 \"Associate's Degree\"]\n",
      " [37.0 179.0 \"Bachelor's Degree\"]\n",
      " [28.0 163.0 \"Associate's Degree\"]\n",
      " [34.0 176.0 \"Bachelor's Degree\"]\n",
      " [32.0 178.0 \"Bachelor's Degree\"]\n",
      " [27.0 162.0 \"Bachelor's Degree\"]\n",
      " [44.0 182.0 'Doctorate Degree']\n",
      " [35.0 168.0 \"Associate's Degree\"]\n",
      " [38.0 179.0 \"Bachelor's Degree\"]\n",
      " [30.0 164.0 \"Bachelor's Degree\"]\n",
      " [42.0 183.0 \"Master's Degree\"]\n",
      " [29.0 160.0 \"Associate's Degree\"]\n",
      " [36.0 175.0 \"Bachelor's Degree\"]\n",
      " [31.0 166.0 \"Bachelor's Degree\"]\n",
      " [41.0 184.0 \"Bachelor's Degree\"]\n",
      " [33.0 169.0 \"Bachelor's Degree\"]\n",
      " [35.0 178.0 \"Bachelor's Degree\"]\n",
      " [28.0 162.0 \"Bachelor's Degree\"]\n",
      " [40.0 183.0 'Doctorate Degree']\n",
      " [34.0 167.0 \"Bachelor's Degree\"]\n",
      " [37.0 180.0 \"Bachelor's Degree\"]\n",
      " [29.0 165.0 'Doctorate Degree']\n",
      " [40.0 182.0 \"Master's Degree\"]\n",
      " [31.0 168.0 \"Bachelor's Degree\"]\n",
      " [43.0 184.0 \"Master's Degree\"]\n",
      " [32.0 170.0 \"Associate's Degree\"]\n",
      " [38.0 176.0 \"Bachelor's Degree\"]\n",
      " [27.0 162.0 \"Associate's Degree\"]\n",
      " [33.0 175.0 \"Bachelor's Degree\"]\n",
      " [29.0 164.0 \"Bachelor's Degree\"]]\n"
     ]
    }
   ],
   "source": [
    "print(X)"
   ]
  },
  {
   "cell_type": "markdown",
   "metadata": {
    "colab_type": "text",
    "id": "CriG6VzVSjcK"
   },
   "source": [
    "## Encoding categorical data"
   ]
  },
  {
   "cell_type": "markdown",
   "metadata": {
    "colab_type": "text",
    "id": "AhSpdQWeSsFh"
   },
   "source": [
    "### Encoding the Independent Variable"
   ]
  },
  {
   "cell_type": "code",
   "execution_count": 12,
   "metadata": {
    "colab": {},
    "colab_type": "code",
    "id": "5hwuVddlSwVi"
   },
   "outputs": [],
   "source": [
    "from sklearn.compose import ColumnTransformer\n",
    "from sklearn.preprocessing import OneHotEncoder\n",
    "ct = ColumnTransformer(transformers=[('encoder', OneHotEncoder(), [2])], remainder='passthrough')\n",
    "X = ct.fit_transform(X)"
   ]
  },
  {
   "cell_type": "code",
   "execution_count": 13,
   "metadata": {
    "colab": {
     "base_uri": "https://localhost:8080/",
     "height": 188
    },
    "colab_type": "code",
    "id": "f7QspewyeBfx",
    "outputId": "5b35feef-7fe2-46ef-ce70-80495f94f4ed"
   },
   "outputs": [
    {
     "name": "stdout",
     "output_type": "stream",
     "text": [
      "[[0.0 0.0 0.0 1.0 35.0 178.0]\n",
      " [0.0 1.0 0.0 0.0 28.0 165.0]\n",
      " [0.0 0.0 1.0 0.0 42.0 185.0]\n",
      " [1.0 0.0 0.0 0.0 31.0 163.0]\n",
      " [0.0 1.0 0.0 0.0 30.0 182.0]\n",
      " [0.0 1.0 0.0 0.0 34.52564102564103 170.0]\n",
      " [0.0 0.0 0.0 1.0 44.0 188.0]\n",
      " [0.0 1.0 0.0 0.0 29.0 167.0]\n",
      " [0.0 1.0 0.0 0.0 37.0 179.0]\n",
      " [0.0 1.0 0.0 0.0 26.0 162.0]\n",
      " [0.0 1.0 0.0 0.0 43.0 173.07692307692307]\n",
      " [1.0 0.0 0.0 0.0 34.0 168.0]\n",
      " [0.0 1.0 0.0 0.0 36.0 174.0]\n",
      " [0.0 1.0 0.0 0.0 27.0 166.0]\n",
      " [0.0 0.0 1.0 0.0 41.0 180.0]\n",
      " [0.0 1.0 0.0 0.0 30.0 170.0]\n",
      " [0.0 1.0 0.0 0.0 38.0 173.07692307692307]\n",
      " [0.0 0.0 1.0 0.0 29.0 164.0]\n",
      " [0.0 0.0 0.0 1.0 40.0 182.0]\n",
      " [0.0 1.0 0.0 0.0 33.0 169.0]\n",
      " [0.0 1.0 0.0 0.0 39.0 181.0]\n",
      " [0.0 1.0 0.0 0.0 32.0 168.0]\n",
      " [0.0 0.0 0.0 1.0 34.52564102564103 186.0]\n",
      " [1.0 0.0 0.0 0.0 28.0 163.0]\n",
      " [0.0 1.0 0.0 0.0 34.0 177.0]\n",
      " [0.0 1.0 0.0 0.0 31.0 166.0]\n",
      " [0.0 1.0 0.0 0.0 42.0 184.0]\n",
      " [1.0 0.0 0.0 0.0 30.0 170.0]\n",
      " [0.0 1.0 0.0 0.0 37.0 179.0]\n",
      " [0.0 1.0 0.0 0.0 37.0 175.0]\n",
      " [0.0 1.0 0.0 0.0 27.0 160.0]\n",
      " [0.0 0.0 1.0 0.0 44.0 182.0]\n",
      " [1.0 0.0 0.0 0.0 32.0 168.0]\n",
      " [0.0 1.0 0.0 0.0 39.0 178.0]\n",
      " [0.0 1.0 0.0 0.0 29.0 165.0]\n",
      " [0.0 0.0 0.0 1.0 43.0 183.0]\n",
      " [1.0 0.0 0.0 0.0 31.0 170.0]\n",
      " [0.0 1.0 0.0 0.0 38.0 176.0]\n",
      " [0.0 1.0 0.0 0.0 28.0 162.0]\n",
      " [0.0 1.0 0.0 0.0 41.0 181.0]\n",
      " [0.0 1.0 0.0 0.0 33.0 170.0]\n",
      " [0.0 1.0 0.0 0.0 36.0 179.0]\n",
      " [0.0 1.0 0.0 0.0 30.0 163.0]\n",
      " [0.0 0.0 1.0 0.0 42.0 184.0]\n",
      " [0.0 1.0 0.0 0.0 34.0 168.0]\n",
      " [0.0 1.0 0.0 0.0 35.0 177.0]\n",
      " [0.0 0.0 1.0 0.0 29.0 166.0]\n",
      " [0.0 0.0 0.0 1.0 40.0 183.0]\n",
      " [0.0 1.0 0.0 0.0 31.0 167.0]\n",
      " [0.0 0.0 0.0 1.0 43.0 185.0]\n",
      " [1.0 0.0 0.0 0.0 32.0 168.0]\n",
      " [0.0 1.0 0.0 0.0 37.0 179.0]\n",
      " [1.0 0.0 0.0 0.0 28.0 163.0]\n",
      " [0.0 1.0 0.0 0.0 34.0 176.0]\n",
      " [0.0 1.0 0.0 0.0 32.0 178.0]\n",
      " [0.0 1.0 0.0 0.0 27.0 162.0]\n",
      " [0.0 0.0 1.0 0.0 44.0 182.0]\n",
      " [1.0 0.0 0.0 0.0 35.0 168.0]\n",
      " [0.0 1.0 0.0 0.0 38.0 179.0]\n",
      " [0.0 1.0 0.0 0.0 30.0 164.0]\n",
      " [0.0 0.0 0.0 1.0 42.0 183.0]\n",
      " [1.0 0.0 0.0 0.0 29.0 160.0]\n",
      " [0.0 1.0 0.0 0.0 36.0 175.0]\n",
      " [0.0 1.0 0.0 0.0 31.0 166.0]\n",
      " [0.0 1.0 0.0 0.0 41.0 184.0]\n",
      " [0.0 1.0 0.0 0.0 33.0 169.0]\n",
      " [0.0 1.0 0.0 0.0 35.0 178.0]\n",
      " [0.0 1.0 0.0 0.0 28.0 162.0]\n",
      " [0.0 0.0 1.0 0.0 40.0 183.0]\n",
      " [0.0 1.0 0.0 0.0 34.0 167.0]\n",
      " [0.0 1.0 0.0 0.0 37.0 180.0]\n",
      " [0.0 0.0 1.0 0.0 29.0 165.0]\n",
      " [0.0 0.0 0.0 1.0 40.0 182.0]\n",
      " [0.0 1.0 0.0 0.0 31.0 168.0]\n",
      " [0.0 0.0 0.0 1.0 43.0 184.0]\n",
      " [1.0 0.0 0.0 0.0 32.0 170.0]\n",
      " [0.0 1.0 0.0 0.0 38.0 176.0]\n",
      " [1.0 0.0 0.0 0.0 27.0 162.0]\n",
      " [0.0 1.0 0.0 0.0 33.0 175.0]\n",
      " [0.0 1.0 0.0 0.0 29.0 164.0]]\n"
     ]
    }
   ],
   "source": [
    "print(X)"
   ]
  },
  {
   "cell_type": "markdown",
   "metadata": {
    "colab_type": "text",
    "id": "DXh8oVSITIc6"
   },
   "source": [
    "### Encoding the Dependent Variable"
   ]
  },
  {
   "cell_type": "code",
   "execution_count": 14,
   "metadata": {
    "colab": {},
    "colab_type": "code",
    "id": "XgHCShVyTOYY"
   },
   "outputs": [],
   "source": [
    "from sklearn.preprocessing import LabelEncoder\n",
    "le = LabelEncoder()\n",
    "y = le.fit_transform(y)"
   ]
  },
  {
   "cell_type": "code",
   "execution_count": 15,
   "metadata": {
    "colab": {
     "base_uri": "https://localhost:8080/",
     "height": 34
    },
    "colab_type": "code",
    "id": "FyhY8-gPpFCa",
    "outputId": "7f76ef29-5423-4c3e-cf69-45fbc366a997"
   },
   "outputs": [
    {
     "name": "stdout",
     "output_type": "stream",
     "text": [
      "[1 0 1 0 1 0 1 0 1 0 1 0 1 0 1 0 1 0 1 0 1 0 1 0 1 0 1 0 1 1 0 1 0 1 0 1 0\n",
      " 1 0 1 0 1 0 1 0 1 0 1 0 1 0 1 0 1 1 0 1 0 1 0 1 0 1 0 1 0 1 0 1 0 1 0 1 0\n",
      " 1 0 1 0 1 0]\n"
     ]
    }
   ],
   "source": [
    "print(y)"
   ]
  },
  {
   "cell_type": "markdown",
   "metadata": {
    "colab_type": "text",
    "id": "qb_vcgm3qZKW"
   },
   "source": [
    "## Splitting the dataset into the Training set and Test set"
   ]
  },
  {
   "cell_type": "code",
   "execution_count": 16,
   "metadata": {
    "colab": {},
    "colab_type": "code",
    "id": "pXgA6CzlqbCl"
   },
   "outputs": [],
   "source": [
    "from sklearn.model_selection import train_test_split\n",
    "X_train, X_test, y_train, y_test = train_test_split(X, y, test_size = 0.2, random_state = 1)"
   ]
  },
  {
   "cell_type": "code",
   "execution_count": 17,
   "metadata": {
    "colab": {
     "base_uri": "https://localhost:8080/",
     "height": 154
    },
    "colab_type": "code",
    "id": "GuwQhFdKrYTM",
    "outputId": "de1e527f-c229-4daf-e7c5-ea9d2485148d"
   },
   "outputs": [
    {
     "name": "stdout",
     "output_type": "stream",
     "text": [
      "[[0.0 1.0 0.0 0.0 28.0 162.0]\n",
      " [0.0 0.0 1.0 0.0 42.0 185.0]\n",
      " [0.0 0.0 0.0 1.0 43.0 183.0]\n",
      " [0.0 1.0 0.0 0.0 39.0 178.0]\n",
      " [0.0 1.0 0.0 0.0 35.0 177.0]\n",
      " [0.0 1.0 0.0 0.0 30.0 170.0]\n",
      " [0.0 1.0 0.0 0.0 35.0 178.0]\n",
      " [0.0 0.0 1.0 0.0 44.0 182.0]\n",
      " [0.0 1.0 0.0 0.0 33.0 169.0]\n",
      " [1.0 0.0 0.0 0.0 29.0 160.0]\n",
      " [1.0 0.0 0.0 0.0 27.0 162.0]\n",
      " [0.0 1.0 0.0 0.0 28.0 162.0]\n",
      " [0.0 1.0 0.0 0.0 42.0 184.0]\n",
      " [0.0 1.0 0.0 0.0 33.0 175.0]\n",
      " [0.0 1.0 0.0 0.0 33.0 169.0]\n",
      " [0.0 1.0 0.0 0.0 34.0 168.0]\n",
      " [0.0 1.0 0.0 0.0 30.0 163.0]\n",
      " [0.0 0.0 0.0 1.0 42.0 183.0]\n",
      " [0.0 1.0 0.0 0.0 29.0 164.0]\n",
      " [0.0 1.0 0.0 0.0 32.0 168.0]\n",
      " [0.0 1.0 0.0 0.0 37.0 180.0]\n",
      " [1.0 0.0 0.0 0.0 31.0 163.0]\n",
      " [0.0 1.0 0.0 0.0 31.0 167.0]\n",
      " [0.0 1.0 0.0 0.0 32.0 178.0]\n",
      " [0.0 0.0 1.0 0.0 42.0 184.0]\n",
      " [0.0 1.0 0.0 0.0 37.0 179.0]\n",
      " [0.0 1.0 0.0 0.0 34.0 177.0]\n",
      " [0.0 1.0 0.0 0.0 37.0 179.0]\n",
      " [0.0 0.0 1.0 0.0 29.0 164.0]\n",
      " [0.0 0.0 0.0 1.0 35.0 178.0]\n",
      " [0.0 0.0 1.0 0.0 29.0 165.0]\n",
      " [1.0 0.0 0.0 0.0 28.0 163.0]\n",
      " [0.0 1.0 0.0 0.0 29.0 167.0]\n",
      " [0.0 1.0 0.0 0.0 38.0 176.0]\n",
      " [1.0 0.0 0.0 0.0 35.0 168.0]\n",
      " [0.0 1.0 0.0 0.0 27.0 166.0]\n",
      " [0.0 0.0 0.0 1.0 34.52564102564103 186.0]\n",
      " [1.0 0.0 0.0 0.0 32.0 168.0]\n",
      " [0.0 1.0 0.0 0.0 27.0 160.0]\n",
      " [0.0 1.0 0.0 0.0 27.0 162.0]\n",
      " [0.0 0.0 0.0 1.0 43.0 185.0]\n",
      " [0.0 1.0 0.0 0.0 36.0 179.0]\n",
      " [0.0 1.0 0.0 0.0 30.0 164.0]\n",
      " [1.0 0.0 0.0 0.0 28.0 163.0]\n",
      " [0.0 1.0 0.0 0.0 30.0 182.0]\n",
      " [0.0 0.0 1.0 0.0 40.0 183.0]\n",
      " [0.0 0.0 1.0 0.0 41.0 180.0]\n",
      " [0.0 1.0 0.0 0.0 37.0 175.0]\n",
      " [0.0 1.0 0.0 0.0 37.0 179.0]\n",
      " [1.0 0.0 0.0 0.0 34.0 168.0]\n",
      " [0.0 0.0 0.0 1.0 40.0 182.0]\n",
      " [0.0 1.0 0.0 0.0 39.0 181.0]\n",
      " [1.0 0.0 0.0 0.0 32.0 168.0]\n",
      " [0.0 1.0 0.0 0.0 31.0 166.0]\n",
      " [0.0 0.0 0.0 1.0 44.0 188.0]\n",
      " [0.0 1.0 0.0 0.0 28.0 165.0]\n",
      " [0.0 1.0 0.0 0.0 38.0 173.07692307692307]\n",
      " [0.0 1.0 0.0 0.0 41.0 184.0]\n",
      " [0.0 1.0 0.0 0.0 34.52564102564103 170.0]\n",
      " [1.0 0.0 0.0 0.0 32.0 170.0]\n",
      " [0.0 1.0 0.0 0.0 26.0 162.0]\n",
      " [0.0 0.0 0.0 1.0 40.0 182.0]\n",
      " [0.0 1.0 0.0 0.0 36.0 174.0]\n",
      " [0.0 1.0 0.0 0.0 38.0 176.0]]\n"
     ]
    }
   ],
   "source": [
    "print(X_train)"
   ]
  },
  {
   "cell_type": "code",
   "execution_count": 18,
   "metadata": {
    "colab": {
     "base_uri": "https://localhost:8080/",
     "height": 51
    },
    "colab_type": "code",
    "id": "TUrX_Tvcrbi4",
    "outputId": "9a041a9b-2642-4828-fa2f-a431d7d77631"
   },
   "outputs": [
    {
     "name": "stdout",
     "output_type": "stream",
     "text": [
      "[[0.0 1.0 0.0 0.0 31.0 166.0]\n",
      " [1.0 0.0 0.0 0.0 30.0 170.0]\n",
      " [0.0 0.0 1.0 0.0 44.0 182.0]\n",
      " [0.0 1.0 0.0 0.0 34.0 167.0]\n",
      " [0.0 0.0 1.0 0.0 29.0 166.0]\n",
      " [0.0 0.0 0.0 1.0 40.0 183.0]\n",
      " [0.0 1.0 0.0 0.0 34.0 176.0]\n",
      " [0.0 0.0 0.0 1.0 43.0 184.0]\n",
      " [0.0 1.0 0.0 0.0 41.0 181.0]\n",
      " [0.0 1.0 0.0 0.0 31.0 168.0]\n",
      " [0.0 1.0 0.0 0.0 29.0 165.0]\n",
      " [0.0 1.0 0.0 0.0 36.0 175.0]\n",
      " [1.0 0.0 0.0 0.0 31.0 170.0]\n",
      " [0.0 1.0 0.0 0.0 33.0 170.0]\n",
      " [0.0 1.0 0.0 0.0 38.0 179.0]\n",
      " [0.0 1.0 0.0 0.0 43.0 173.07692307692307]]\n"
     ]
    }
   ],
   "source": [
    "print(X_test)"
   ]
  },
  {
   "cell_type": "code",
   "execution_count": 19,
   "metadata": {
    "colab": {
     "base_uri": "https://localhost:8080/",
     "height": 34
    },
    "colab_type": "code",
    "id": "pSMHiIsWreQY",
    "outputId": "5afe91e0-9244-4bf5-ec1b-e3e092b85c08"
   },
   "outputs": [
    {
     "name": "stdout",
     "output_type": "stream",
     "text": [
      "[0 1 1 1 1 0 1 1 0 0 0 0 1 1 0 0 0 1 0 0 1 0 0 1 1 1 1 1 0 1 0 0 0 1 0 0 1\n",
      " 0 0 0 1 1 0 0 1 1 1 1 1 0 1 1 0 0 1 0 1 1 0 0 0 1 1 1]\n"
     ]
    }
   ],
   "source": [
    "print(y_train)"
   ]
  },
  {
   "cell_type": "code",
   "execution_count": 20,
   "metadata": {
    "colab": {
     "base_uri": "https://localhost:8080/",
     "height": 34
    },
    "colab_type": "code",
    "id": "I_tW7H56rgtW",
    "outputId": "2a93f141-2a99-4a69-eec5-c82a3bb8d36b"
   },
   "outputs": [
    {
     "name": "stdout",
     "output_type": "stream",
     "text": [
      "[0 0 1 0 0 1 1 1 1 0 0 1 0 0 1 1]\n"
     ]
    }
   ],
   "source": [
    "print(y_test)"
   ]
  },
  {
   "cell_type": "markdown",
   "metadata": {
    "colab_type": "text",
    "id": "TpGqbS4TqkIR"
   },
   "source": [
    "## Feature Scaling"
   ]
  },
  {
   "cell_type": "code",
   "execution_count": 21,
   "metadata": {
    "colab": {},
    "colab_type": "code",
    "id": "AxjSUXFQqo-3"
   },
   "outputs": [],
   "source": [
    "from sklearn.preprocessing import StandardScaler\n",
    "sc = StandardScaler()\n",
    "X_train[:, 4:] = sc.fit_transform(X_train[:, 4:]) #[:, 4:] = without OneHotEncoded rows\n",
    "X_test[:, 4:] = sc.transform(X_test[:, 4:])"
   ]
  },
  {
   "cell_type": "code",
   "execution_count": 22,
   "metadata": {
    "colab": {
     "base_uri": "https://localhost:8080/",
     "height": 154
    },
    "colab_type": "code",
    "id": "DWPET8ZdlMnu",
    "outputId": "dea86927-5124-4e2a-e974-2804df9a913c"
   },
   "outputs": [
    {
     "name": "stdout",
     "output_type": "stream",
     "text": [
      "[[0.0 1.0 0.0 0.0 -1.2392229929341387 -1.3517522853374644]\n",
      " [0.0 0.0 1.0 0.0 1.5156219886226097 1.478349654730117]\n",
      " [0.0 0.0 0.0 1.0 1.7123966301623774 1.2322538338546751]\n",
      " [0.0 1.0 0.0 0.0 0.9252980640033064 0.6170142816660704]\n",
      " [0.0 1.0 0.0 0.0 0.1381994978442354 0.4939663712283495]\n",
      " [0.0 1.0 0.0 0.0 -0.8456737098546033 -0.367369001835697]\n",
      " [0.0 1.0 0.0 0.0 0.1381994978442354 0.6170142816660704]\n",
      " [0.0 0.0 1.0 0.0 1.9091712717021452 1.1092059234169542]\n",
      " [0.0 1.0 0.0 0.0 -0.25534978523530005 -0.49041691227341794]\n",
      " [1.0 0.0 0.0 0.0 -1.042448351394371 -1.5978481062129064]\n",
      " [1.0 0.0 0.0 0.0 -1.4359976344739065 -1.3517522853374644]\n",
      " [0.0 1.0 0.0 0.0 -1.2392229929341387 -1.3517522853374644]\n",
      " [0.0 1.0 0.0 0.0 1.5156219886226097 1.355301744292396]\n",
      " [0.0 1.0 0.0 0.0 -0.25534978523530005 0.24787055035290764]\n",
      " [0.0 1.0 0.0 0.0 -0.25534978523530005 -0.49041691227341794]\n",
      " [0.0 1.0 0.0 0.0 -0.05857514369553233 -0.6134648227111389]\n",
      " [0.0 1.0 0.0 0.0 -0.8456737098546033 -1.2287043748997435]\n",
      " [0.0 0.0 0.0 1.0 1.5156219886226097 1.2322538338546751]\n",
      " [0.0 1.0 0.0 0.0 -1.042448351394371 -1.1056564644620226]\n",
      " [0.0 1.0 0.0 0.0 -0.4521244267750678 -0.6134648227111389]\n",
      " [0.0 1.0 0.0 0.0 0.5317487809237709 0.8631101025415123]\n",
      " [1.0 0.0 0.0 0.0 -0.6488990683148356 -1.2287043748997435]\n",
      " [0.0 1.0 0.0 0.0 -0.6488990683148356 -0.7365127331488598]\n",
      " [0.0 1.0 0.0 0.0 -0.4521244267750678 0.6170142816660704]\n",
      " [0.0 0.0 1.0 0.0 1.5156219886226097 1.355301744292396]\n",
      " [0.0 1.0 0.0 0.0 0.5317487809237709 0.7400621921037913]\n",
      " [0.0 1.0 0.0 0.0 -0.05857514369553233 0.4939663712283495]\n",
      " [0.0 1.0 0.0 0.0 0.5317487809237709 0.7400621921037913]\n",
      " [0.0 0.0 1.0 0.0 -1.042448351394371 -1.1056564644620226]\n",
      " [0.0 0.0 0.0 1.0 0.1381994978442354 0.6170142816660704]\n",
      " [0.0 0.0 1.0 0.0 -1.042448351394371 -0.9826085540243017]\n",
      " [1.0 0.0 0.0 0.0 -1.2392229929341387 -1.2287043748997435]\n",
      " [0.0 1.0 0.0 0.0 -1.042448351394371 -0.7365127331488598]\n",
      " [0.0 1.0 0.0 0.0 0.7285234224635386 0.37091846079062857]\n",
      " [1.0 0.0 0.0 0.0 0.1381994978442354 -0.6134648227111389]\n",
      " [0.0 1.0 0.0 0.0 -1.4359976344739065 -0.8595606435865807]\n",
      " [0.0 0.0 0.0 1.0 0.04485768070357704 1.6013975651678378]\n",
      " [1.0 0.0 0.0 0.0 -0.4521244267750678 -0.6134648227111389]\n",
      " [0.0 1.0 0.0 0.0 -1.4359976344739065 -1.5978481062129064]\n",
      " [0.0 1.0 0.0 0.0 -1.4359976344739065 -1.3517522853374644]\n",
      " [0.0 0.0 0.0 1.0 1.7123966301623774 1.478349654730117]\n",
      " [0.0 1.0 0.0 0.0 0.33497413938400317 0.7400621921037913]\n",
      " [0.0 1.0 0.0 0.0 -0.8456737098546033 -1.1056564644620226]\n",
      " [1.0 0.0 0.0 0.0 -1.2392229929341387 -1.2287043748997435]\n",
      " [0.0 1.0 0.0 0.0 -0.8456737098546033 1.1092059234169542]\n",
      " [0.0 0.0 1.0 0.0 1.1220727055430741 1.2322538338546751]\n",
      " [0.0 0.0 1.0 0.0 1.318847347082842 0.8631101025415123]\n",
      " [0.0 1.0 0.0 0.0 0.5317487809237709 0.24787055035290764]\n",
      " [0.0 1.0 0.0 0.0 0.5317487809237709 0.7400621921037913]\n",
      " [1.0 0.0 0.0 0.0 -0.05857514369553233 -0.6134648227111389]\n",
      " [0.0 0.0 0.0 1.0 1.1220727055430741 1.1092059234169542]\n",
      " [0.0 1.0 0.0 0.0 0.9252980640033064 0.9861580129792332]\n",
      " [1.0 0.0 0.0 0.0 -0.4521244267750678 -0.6134648227111389]\n",
      " [0.0 1.0 0.0 0.0 -0.6488990683148356 -0.8595606435865807]\n",
      " [0.0 0.0 0.0 1.0 1.9091712717021452 1.8474933860432798]\n",
      " [0.0 1.0 0.0 0.0 -1.2392229929341387 -0.9826085540243017]\n",
      " [0.0 1.0 0.0 0.0 0.7285234224635386 0.011239953357289126]\n",
      " [0.0 1.0 0.0 0.0 1.318847347082842 1.355301744292396]\n",
      " [0.0 1.0 0.0 0.0 0.04485768070357704 -0.367369001835697]\n",
      " [1.0 0.0 0.0 0.0 -0.4521244267750678 -0.367369001835697]\n",
      " [0.0 1.0 0.0 0.0 -1.6327722760136743 -1.3517522853374644]\n",
      " [0.0 0.0 0.0 1.0 1.1220727055430741 1.1092059234169542]\n",
      " [0.0 1.0 0.0 0.0 0.33497413938400317 0.12482263991518672]\n",
      " [0.0 1.0 0.0 0.0 0.7285234224635386 0.37091846079062857]]\n"
     ]
    }
   ],
   "source": [
    "print(X_train)"
   ]
  },
  {
   "cell_type": "code",
   "execution_count": 23,
   "metadata": {
    "colab": {
     "base_uri": "https://localhost:8080/",
     "height": 51
    },
    "colab_type": "code",
    "id": "sTXykB_QlRjE",
    "outputId": "b68f0cfc-d07c-48cb-80d0-6800028c41f9"
   },
   "outputs": [
    {
     "name": "stdout",
     "output_type": "stream",
     "text": [
      "[[0.0 1.0 0.0 0.0 -0.6488990683148356 -0.8595606435865807]\n",
      " [1.0 0.0 0.0 0.0 -0.8456737098546033 -0.367369001835697]\n",
      " [0.0 0.0 1.0 0.0 1.9091712717021452 1.1092059234169542]\n",
      " [0.0 1.0 0.0 0.0 -0.05857514369553233 -0.7365127331488598]\n",
      " [0.0 0.0 1.0 0.0 -1.042448351394371 -0.8595606435865807]\n",
      " [0.0 0.0 0.0 1.0 1.1220727055430741 1.2322538338546751]\n",
      " [0.0 1.0 0.0 0.0 -0.05857514369553233 0.37091846079062857]\n",
      " [0.0 0.0 0.0 1.0 1.7123966301623774 1.355301744292396]\n",
      " [0.0 1.0 0.0 0.0 1.318847347082842 0.9861580129792332]\n",
      " [0.0 1.0 0.0 0.0 -0.6488990683148356 -0.6134648227111389]\n",
      " [0.0 1.0 0.0 0.0 -1.042448351394371 -0.9826085540243017]\n",
      " [0.0 1.0 0.0 0.0 0.33497413938400317 0.24787055035290764]\n",
      " [1.0 0.0 0.0 0.0 -0.6488990683148356 -0.367369001835697]\n",
      " [0.0 1.0 0.0 0.0 -0.25534978523530005 -0.367369001835697]\n",
      " [0.0 1.0 0.0 0.0 0.7285234224635386 0.7400621921037913]\n",
      " [0.0 1.0 0.0 0.0 1.7123966301623774 0.011239953357289126]]\n"
     ]
    }
   ],
   "source": [
    "print(X_test)"
   ]
  }
 ],
 "metadata": {
  "colab": {
   "collapsed_sections": [],
   "name": "data_preprocessing_tools.ipynb",
   "provenance": [],
   "toc_visible": true
  },
  "kernelspec": {
   "display_name": "Python 3 (ipykernel)",
   "language": "python",
   "name": "python3"
  },
  "language_info": {
   "codemirror_mode": {
    "name": "ipython",
    "version": 3
   },
   "file_extension": ".py",
   "mimetype": "text/x-python",
   "name": "python",
   "nbconvert_exporter": "python",
   "pygments_lexer": "ipython3",
   "version": "3.9.12"
  }
 },
 "nbformat": 4,
 "nbformat_minor": 1
}
